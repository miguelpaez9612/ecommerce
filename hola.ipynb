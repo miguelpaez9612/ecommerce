{
  "nbformat": 4,
  "nbformat_minor": 0,
  "metadata": {
    "colab": {
      "name": "Untitled0.ipynb",
      "provenance": [],
      "authorship_tag": "ABX9TyNrXzpozDuB3evyxJAPl/X+",
      "include_colab_link": true
    },
    "kernelspec": {
      "name": "python3",
      "display_name": "Python 3"
    }
  },
  "cells": [
    {
      "cell_type": "markdown",
      "metadata": {
        "id": "view-in-github",
        "colab_type": "text"
      },
      "source": [
        "<a href=\"https://colab.research.google.com/github/miguelpaez9612/ecommerce/blob/gh-pages/hola.ipynb\" target=\"_parent\"><img src=\"https://colab.research.google.com/assets/colab-badge.svg\" alt=\"Open In Colab\"/></a>"
      ]
    },
    {
      "cell_type": "code",
      "metadata": {
        "id": "881PEDpLS4Sq",
        "colab_type": "code",
        "colab": {
          "base_uri": "https://localhost:8080/",
          "height": 34
        },
        "outputId": "b9bdbcf8-059a-4c43-b11d-71890b261e14"
      },
      "source": [
        "import numpy as np\n",
        "\n",
        "masa = 20\n",
        "g = 10 \n",
        "angulo = 30\n",
        "peso = masa*g\n",
        "\n",
        "F = peso*np.sin(30*3.1416/180.0)\n",
        "\n",
        "print(F)\n",
        "\n"
      ],
      "execution_count": 8,
      "outputs": [
        {
          "output_type": "stream",
          "text": [
            "100.00021207252057\n"
          ],
          "name": "stdout"
        }
      ]
    }
  ]
}